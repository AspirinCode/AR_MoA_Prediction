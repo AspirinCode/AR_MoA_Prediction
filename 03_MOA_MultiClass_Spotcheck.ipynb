{
 "cells": [
  {
   "cell_type": "code",
   "execution_count": 1,
   "metadata": {
    "collapsed": true
   },
   "outputs": [],
   "source": [
    "#Cue: https://machinelearningmastery.com/spot-check-machine-learning-algorithms-in-python/\n",
    "import pickle\n",
    "import numpy as np\n",
    "import pandas as pd\n",
    "from sklearn.feature_selection import VarianceThreshold\n",
    "from sklearn.preprocessing import StandardScaler\n",
    "from sklearn.neural_network import MLPClassifier\n",
    "from sklearn.neighbors import KNeighborsClassifier\n",
    "from sklearn.naive_bayes import GaussianNB\n",
    "from sklearn.linear_model import LogisticRegression\n",
    "from sklearn.svm import LinearSVC\n",
    "from sklearn.tree import DecisionTreeClassifier\n",
    "from sklearn.model_selection import StratifiedKFold, cross_val_score, train_test_split\n",
    "from sklearn import metrics\n",
    "from sklearn.ensemble import RandomForestClassifier\n",
    "import matplotlib.pyplot as plt\n",
    "%matplotlib inline "
   ]
  },
  {
   "cell_type": "code",
   "execution_count": 2,
   "metadata": {},
   "outputs": [
    {
     "name": "stderr",
     "output_type": "stream",
     "text": [
      "/ihome/gidakwo/anaconda3/envs/ml_env/lib/python3.5/site-packages/IPython/core/interactiveshell.py:2698: DtypeWarning: Columns (1146) have mixed types. Specify dtype option on import or set low_memory=False.\n",
      "  interactivity=interactivity, compiler=compiler, result=result)\n"
     ]
    },
    {
     "name": "stdout",
     "output_type": "stream",
     "text": [
      "Shape of X_all before removing low variance features: (10251, 17966)\n"
     ]
    }
   ],
   "source": [
    "data = pd.read_csv('conventional_data.csv')\n",
    "y_ = data['consensus_act']\n",
    "\n",
    "X_all = data.drop(['consensus_act', 'PUBCHEM_SID', 'gmin'], axis = 1)\n",
    "X_all.replace([np.inf, -np.inf], np.nan, inplace=True) #replace all infinite values with NaN\n",
    "\n",
    "X_all = X_all.dropna(axis=1, how='all') #Drop any column that has all NaN\n",
    "X_all.fillna(value = X_all.mean(axis=0), inplace=True) #Impute mean in place on NaN\n",
    "\n",
    "#X_all.loc[:, X_all.isnull().any()] See which column still had NaN after prepocessing. gmin was removed\n",
    "print('Shape of X_all before removing low variance features:', X_all.shape)\n",
    "\n",
    "#0.16 =(.8 * (1 - .8)) that is the threshold for features that are constant in 80% of the instances\n",
    "feat = VarianceThreshold(threshold=0.16)\n",
    "feat.fit_transform(X_all)\n",
    "X_all = X_all[X_all.columns[feat.get_support(indices=True)]] #retain column names\n",
    "X_spotcheck = StandardScaler().fit_transform(X_all)\n"
   ]
  },
  {
   "cell_type": "code",
   "execution_count": 3,
   "metadata": {},
   "outputs": [
    {
     "name": "stdout",
     "output_type": "stream",
     "text": [
      "Shape of X after removing low variance features: (10251, 2491)\n"
     ]
    }
   ],
   "source": [
    "print('Shape of X after removing low variance features:', X_spotcheck.shape)"
   ]
  },
  {
   "cell_type": "code",
   "execution_count": 4,
   "metadata": {},
   "outputs": [
    {
     "name": "stdout",
     "output_type": "stream",
     "text": [
      "KNN: 0.515874 (0.013611)\n",
      "[ 0.52677136  0.49303363  0.52486953  0.5273646   0.50733192]\n",
      "RF: 0.548463 (0.033769)\n",
      "[ 0.58018966  0.58051313  0.54966596  0.54386104  0.4880856 ]\n",
      "CART: 0.474942 (0.029696)\n",
      "[ 0.51363201  0.48431834  0.46051232  0.49014159  0.42610509]\n",
      "NB: 0.309541 (0.047032)\n",
      "[ 0.34221247  0.36500027  0.33388126  0.25316888  0.25344417]\n",
      "SVM: 0.508398 (0.038199)\n",
      "[ 0.53001052  0.55798765  0.52556323  0.47344707  0.45498054]\n",
      "DNN: 0.535589 (0.046715)\n",
      "[ 0.56071184  0.59015011  0.50329791  0.46120883  0.562577  ]\n"
     ]
    }
   ],
   "source": [
    "models = []\n",
    "#models.append(('LR', LogisticRegression()))\n",
    "models.append(('RF', RandomForestClassifier()))\n",
    "models.append(('KNN', KNeighborsClassifier()))\n",
    "models.append(('CART', DecisionTreeClassifier()))\n",
    "models.append(('NB', GaussianNB()))\n",
    "models.append(('SVM', LinearSVC()))\n",
    "models.append(('DNN', MLPClassifier()))\n",
    "\n",
    "# evaluate each model in turn\n",
    "results = []\n",
    "names = []\n",
    "scoring = 'f1_macro'\n",
    "for name, model in models:\n",
    "    kfold = StratifiedKFold(n_splits=5)\n",
    "    cv_results = cross_val_score(model, X_spotcheck, y_, cv=kfold, scoring=scoring)\n",
    "    results.append(cv_results)\n",
    "    names.append(name)\n",
    "    msg = \"%s: %f (%f)\" % (name, cv_results.mean(), cv_results.std())\n",
    "    print(msg)\n",
    "    print(cv_results)"
   ]
  },
  {
   "cell_type": "code",
   "execution_count": 5,
   "metadata": {},
   "outputs": [
    {
     "data": {
      "text/plain": [
       "[<matplotlib.text.Text at 0x7f3d1e804ba8>,\n",
       " <matplotlib.text.Text at 0x7f3d1e8153c8>]"
      ]
     },
     "execution_count": 5,
     "metadata": {},
     "output_type": "execute_result"
    },
    {
     "data": {
      "image/png": "[encoded data removed]",
      "text/plain": [
       "<matplotlib.figure.Figure at 0x7f3d2af62668>"
      ]
     },
     "metadata": {},
     "output_type": "display_data"
    }
   ],
   "source": [
    "plot_data = pd.DataFrame(np.transpose(results), columns=names)\n",
    "\n",
    "import seaborn as sns\n",
    "\n",
    "sns.set(rc={'figure.figsize':(10,10)}, style='white')\n",
    "sns.boxplot(data=plot_data).set(\n",
    "    xlabel='Algorithms', \n",
    "    ylabel='F-measure'\n",
    ")"
   ]
  },
  {
   "cell_type": "code",
   "execution_count": 6,
   "metadata": {
    "collapsed": true
   },
   "outputs": [],
   "source": [
    "df_results = pd.DataFrame(results)\n",
    "df_results.to_csv(\"spotcheck_results.csv\")"
   ]
  },
  {
   "cell_type": "code",
   "execution_count": null,
   "metadata": {
    "collapsed": true
   },
   "outputs": [],
   "source": []
  }
 ],
 "metadata": {
  "kernelspec": {
   "display_name": "Python 3",
   "language": "python",
   "name": "python3"
  },
  "language_info": {
   "codemirror_mode": {
    "name": "ipython",
    "version": 3
   },
   "file_extension": ".py",
   "mimetype": "text/x-python",
   "name": "python",
   "nbconvert_exporter": "python",
   "pygments_lexer": "ipython3",
   "version": "3.5.4"
  }
 },
 "nbformat": 4,
 "nbformat_minor": 2
}
