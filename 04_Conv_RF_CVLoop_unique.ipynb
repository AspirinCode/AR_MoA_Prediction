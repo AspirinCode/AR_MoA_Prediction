{
 "cells": [
  {
   "cell_type": "code",
   "execution_count": 1,
   "metadata": {
    "collapsed": true
   },
   "outputs": [],
   "source": [
    "import pickle\n",
    "import numpy as np\n",
    "import pandas as pd\n",
    "from sklearn.model_selection import train_test_split\n",
    "from sklearn.preprocessing import StandardScaler\n",
    "from sklearn.feature_selection import VarianceThreshold\n",
    "from sklearn.metrics import classification_report, confusion_matrix\n",
    "from sklearn import metrics\n",
    "from sklearn.model_selection import StratifiedKFold, cross_val_score, GridSearchCV\n",
    "from sklearn.ensemble import RandomForestClassifier"
   ]
  },
  {
   "cell_type": "code",
   "execution_count": 2,
   "metadata": {},
   "outputs": [
    {
     "name": "stderr",
     "output_type": "stream",
     "text": [
      "/ihome/gidakwo/anaconda3/envs/ml_env/lib/python3.5/site-packages/IPython/core/interactiveshell.py:2698: DtypeWarning: Columns (1147) have mixed types. Specify dtype option on import or set low_memory=False.\n",
      "  interactivity=interactivity, compiler=compiler, result=result)\n"
     ]
    },
    {
     "name": "stdout",
     "output_type": "stream",
     "text": [
      "Shape of X_all before removing low variance features: (7665, 17967)\n",
      "Shape of X after removing low variance features: (7665, 2544)\n"
     ]
    }
   ],
   "source": [
    "data = pd.read_csv('conventional_data_unique.csv', index_col='CID')\n",
    "y_ = data['consensus_act']\n",
    "\n",
    "X_all = data.drop(['consensus_act', 'gmin'], axis = 1)\n",
    "X_all.replace([np.inf, -np.inf], np.nan, inplace=True) #replace all infinite values with NaN\n",
    "\n",
    "X_all = X_all.dropna(axis=1, how='all') #Drop any column that has all NaN\n",
    "X_all.fillna(value = X_all.mean(axis=0), inplace=True) #Impute mean in place on NaN\n",
    "\n",
    "#X_all.loc[:, X_all.isnull().any()] See which column still had NaN after prepocessing. gmin was removed\n",
    "print('Shape of X_all before removing low variance features:', X_all.shape)\n",
    "\n",
    "#0.16 =(.8 * (1 - .8)) that is the threshold for features that are constant in 80% of the instances\n",
    "feat = VarianceThreshold(threshold=0.16)\n",
    "feat.fit_transform(X_all)\n",
    "X_all = X_all[X_all.columns[feat.get_support(indices=True)]] #retain column names\n",
    "print('Shape of X after removing low variance features:', X_all.shape)\n"
   ]
  },
  {
   "cell_type": "code",
   "execution_count": 3,
   "metadata": {},
   "outputs": [
    {
     "name": "stdout",
     "output_type": "stream",
     "text": [
      "Fold 1 of 5\n",
      "(6130, 2544) (1535, 2544) (6130,) (1535,)\n",
      "CV Best score:  0.751386623165\n",
      "CV Best Params:  {'max_depth': None, 'criterion': 'gini', 'min_samples_leaf': 5, 'n_estimators': 200, 'max_features': 'auto'}\n",
      "[[ 19   0   3   6]\n",
      " [  0   2   7   8]\n",
      " [  1   1 889 103]\n",
      " [  2   1 228 265]]\n",
      "                   precision    recall  f1-score   support\n",
      "\n",
      "   active_agonist       0.86      0.68      0.76        28\n",
      "active_antagonist       0.50      0.12      0.19        17\n",
      "         inactive       0.79      0.89      0.84       994\n",
      "     inconclusive       0.69      0.53      0.60       496\n",
      "\n",
      "      avg / total       0.76      0.77      0.75      1535\n",
      "\n",
      "Precision: 0.711543379225\n",
      "Recall: 0.556214719532\n",
      "f1_score: 0.598101166446\n",
      "AUROC: 0.845726857517\n",
      "AUPRC: 0.642755942984\n",
      "Fold 2 of 5\n",
      "(6131, 2544) (1534, 2544) (6131,) (1534,)\n",
      "CV Best score:  0.746370901974\n",
      "CV Best Params:  {'max_depth': None, 'criterion': 'gini', 'min_samples_leaf': 10, 'n_estimators': 200, 'max_features': 0.2}\n",
      "[[ 20   0   8   0]\n",
      " [  1   0   4  12]\n",
      " [  2   0 874 118]\n",
      " [  8   0 202 285]]\n",
      "                   precision    recall  f1-score   support\n",
      "\n",
      "   active_agonist       0.65      0.71      0.68        28\n",
      "active_antagonist       0.00      0.00      0.00        17\n",
      "         inactive       0.80      0.88      0.84       994\n",
      "     inconclusive       0.69      0.58      0.63       495\n",
      "\n",
      "      avg / total       0.75      0.77      0.76      1534\n",
      "\n",
      "Precision: 0.533804275451\n",
      "Recall: 0.542329735992\n",
      "f1_score: 0.53597926439\n",
      "AUROC: 0.866885136292\n",
      "AUPRC: 0.66704598782\n",
      "Fold 3 of 5\n"
     ]
    },
    {
     "name": "stderr",
     "output_type": "stream",
     "text": [
      "/ihome/gidakwo/anaconda3/envs/ml_env/lib/python3.5/site-packages/sklearn/metrics/classification.py:1135: UndefinedMetricWarning: Precision and F-score are ill-defined and being set to 0.0 in labels with no predicted samples.\n",
      "  'precision', 'predicted', average, warn_for)\n",
      "/ihome/gidakwo/anaconda3/envs/ml_env/lib/python3.5/site-packages/sklearn/metrics/classification.py:1135: UndefinedMetricWarning: Precision is ill-defined and being set to 0.0 in labels with no predicted samples.\n",
      "  'precision', 'predicted', average, warn_for)\n",
      "/ihome/gidakwo/anaconda3/envs/ml_env/lib/python3.5/site-packages/sklearn/metrics/classification.py:1135: UndefinedMetricWarning: F-score is ill-defined and being set to 0.0 in labels with no predicted samples.\n",
      "  'precision', 'predicted', average, warn_for)\n"
     ]
    },
    {
     "name": "stdout",
     "output_type": "stream",
     "text": [
      "(6133, 2544) (1532, 2544) (6133,) (1532,)\n",
      "CV Best score:  0.750692972444\n",
      "CV Best Params:  {'max_depth': None, 'criterion': 'gini', 'min_samples_leaf': 1, 'n_estimators': 200, 'max_features': 'auto'}\n",
      "[[ 17   0   6   5]\n",
      " [  1   0   5  10]\n",
      " [  0   1 878 114]\n",
      " [  3   0 216 276]]\n",
      "                   precision    recall  f1-score   support\n",
      "\n",
      "   active_agonist       0.81      0.61      0.69        28\n",
      "active_antagonist       0.00      0.00      0.00        16\n",
      "         inactive       0.79      0.88      0.84       993\n",
      "     inconclusive       0.68      0.56      0.61       495\n",
      "\n",
      "      avg / total       0.75      0.76      0.75      1532\n",
      "\n",
      "Precision: 0.571393856688\n",
      "Recall: 0.512226984999\n",
      "f1_score: 0.5360496229\n",
      "AUROC: 0.856725000619\n",
      "AUPRC: 0.599072952356\n",
      "Fold 4 of 5\n",
      "(6133, 2544) (1532, 2544) (6133,) (1532,)\n",
      "CV Best score:  0.746779716289\n",
      "CV Best Params:  {'max_depth': None, 'criterion': 'gini', 'min_samples_leaf': 5, 'n_estimators': 100, 'max_features': 'auto'}\n",
      "[[ 20   0   6   2]\n",
      " [  0   0   4  12]\n",
      " [  1   1 894  97]\n",
      " [  3   0 232 260]]\n",
      "                   precision    recall  f1-score   support\n",
      "\n",
      "   active_agonist       0.83      0.71      0.77        28\n",
      "active_antagonist       0.00      0.00      0.00        16\n",
      "         inactive       0.79      0.90      0.84       993\n",
      "     inconclusive       0.70      0.53      0.60       495\n",
      "\n",
      "      avg / total       0.75      0.77      0.75      1532\n",
      "\n",
      "Precision: 0.580278447414\n",
      "Recall: 0.534960088585\n",
      "f1_score: 0.552380892381\n",
      "AUROC: 0.827148451334\n",
      "AUPRC: 0.594466807699\n",
      "Fold 5 of 5\n",
      "(6133, 2544) (1532, 2544) (6133,) (1532,)\n",
      "CV Best score:  0.751508234143\n",
      "CV Best Params:  {'max_depth': None, 'criterion': 'gini', 'min_samples_leaf': 1, 'n_estimators': 100, 'max_features': 'auto'}\n",
      "[[ 25   0   1   2]\n",
      " [  0   1   3  12]\n",
      " [  1   0 867 125]\n",
      " [  4   0 227 264]]\n",
      "                   precision    recall  f1-score   support\n",
      "\n",
      "   active_agonist       0.83      0.89      0.86        28\n",
      "active_antagonist       1.00      0.06      0.12        16\n",
      "         inactive       0.79      0.87      0.83       993\n",
      "     inconclusive       0.66      0.53      0.59       495\n",
      "\n",
      "      avg / total       0.75      0.76      0.74      1532\n",
      "\n",
      "Precision: 0.819509417077\n",
      "Recall: 0.590450564667\n",
      "f1_score: 0.599239397741\n",
      "AUROC: 0.841111416589\n",
      "AUPRC: 0.644254797886\n"
     ]
    }
   ],
   "source": [
    "n_splits=5\n",
    "kfold = StratifiedKFold(n_splits=n_splits, shuffle=True, random_state=23)\n",
    "\n",
    "#Outer CV\n",
    "for fold, (train_idx, val_idx) in enumerate(kfold.split(X_all, y_)):\n",
    "    print(\"Fold \" + str(fold+1) + \" of \" + str(n_splits))\n",
    "    \n",
    "    xtrain, xtest = X_all.iloc[train_idx], X_all.iloc[val_idx]\n",
    "    y_train, y_test = y_.values[train_idx], y_.values[val_idx]\n",
    "    \n",
    "    #y_train = pd.get_dummies(y_train)\n",
    "    #y_test = pd.get_dummies(y_test)\n",
    "    \n",
    "    sc = StandardScaler().fit(xtrain)\n",
    "    X_train = pd.DataFrame(sc.transform(xtrain), columns = X_all.columns)\n",
    "    X_test = pd.DataFrame(sc.transform(xtest), columns = X_all.columns)\n",
    "    print(X_train.shape, X_test.shape, y_train.shape, y_test.shape)\n",
    "    #-----------------------------------------------------------------------------\n",
    "    param_dist = {'n_estimators':[50, 100, 200], \"max_depth\": [3, None], \n",
    "              \"max_features\": [\"auto\", \"log2\", None, 0.8, 0.5, 0.2], \n",
    "              \"min_samples_leaf\": [0.5, 1, 5, 10, 25], \"criterion\": [\"gini\", \"entropy\"]}\n",
    "\n",
    "    rf = RandomForestClassifier() #Change model\n",
    "    \n",
    "    #Inner CV with gridsearch\n",
    "    rf_clf = GridSearchCV(rf, param_grid=param_dist, scoring='f1_micro', cv=StratifiedKFold(10), n_jobs=9)\n",
    "    rf_clf.fit(X_train, y_train)\n",
    "\n",
    "    print('CV Best score: ', rf_clf.best_score_)\n",
    "    print('CV Best Params: ', rf_clf.best_params_)\n",
    "\n",
    "    new_rf_model = RandomForestClassifier(**rf_clf.best_params_)\n",
    "    new_rf_model.fit(X_train, y_train)\n",
    "    #-------------------------------------------------------------------------------\n",
    "    X_train_cols = X_train.columns.values #feature names\n",
    "\n",
    "    imp = pd.concat([pd.DataFrame(new_rf_model.feature_importances_), pd.DataFrame(X_train_cols)], axis = 1)\n",
    "    imp.columns = ['_Imp', '_Features']\n",
    "    imp = imp.sort_values('_Imp', ascending=False)\n",
    "    imp_filename = 'Unique_Conventional_RF_feat_importance' + str(fold+1) + '.csv'\n",
    "    imp.to_csv(imp_filename)\n",
    "    \n",
    "    #Save te model\n",
    "    pickle.dump(new_rf_model, open('Unique_ConvRF_' + str(fold+1) + '.pkl', 'wb'))\n",
    "    #loaded_model = pickle.load(open('convRF.pkl', 'rb'))\n",
    "    \n",
    "    #----------------------------------------------------------------------------------\n",
    "    y_pred = new_rf_model.predict(X_test)\n",
    "\n",
    "    #labels = ['active_agonist', 'active_antagonist', 'inactive', 'inconclusive']\n",
    "    print(confusion_matrix(y_test, y_pred))\n",
    "    print(classification_report(y_test, y_pred))\n",
    "    print (\"Precision:\", metrics.precision_score(y_test, y_pred, average=\"macro\"))\n",
    "    print (\"Recall:\", metrics.recall_score(y_test, y_pred, average=\"macro\"))\n",
    "    print (\"f1_score:\", metrics.f1_score(y_test, y_pred, average=\"macro\"))\n",
    "    #------------------------------------------------\n",
    "    y_test_ = pd.get_dummies(y_test)\n",
    "    y_proba = new_rf_model.predict_proba(X_test)\n",
    "    print('AUROC:', metrics.roc_auc_score(y_test_, y_proba, average=\"macro\"))\n",
    "    print('AUPRC:', metrics.average_precision_score(y_test_, y_proba, average=\"macro\"))\n",
    "    #------------------------------------------------\n"
   ]
  },
  {
   "cell_type": "code",
   "execution_count": null,
   "metadata": {
    "collapsed": true
   },
   "outputs": [],
   "source": [
    "#CORRECT/INCORRECT PREDICTION DATAFRAME"
   ]
  },
  {
   "cell_type": "code",
   "execution_count": 14,
   "metadata": {},
   "outputs": [
    {
     "name": "stderr",
     "output_type": "stream",
     "text": [
      "/ihome/gidakwo/anaconda3/envs/ml_env/lib/python3.5/site-packages/IPython/core/interactiveshell.py:2698: DtypeWarning: Columns (1147) have mixed types. Specify dtype option on import or set low_memory=False.\n",
      "  interactivity=interactivity, compiler=compiler, result=result)\n"
     ]
    },
    {
     "name": "stdout",
     "output_type": "stream",
     "text": [
      "Shape of X_all before removing low variance features: (7665, 17967)\n",
      "Shape of X after removing low variance features: (7665, 2544)\n"
     ]
    }
   ],
   "source": [
    "data = pd.read_csv('conventional_data_unique.csv', index_col= 'CID')\n",
    "y_ = data['consensus_act']\n",
    "\n",
    "X_all = data.drop(['consensus_act','gmin'], axis = 1)\n",
    "X_all.replace([np.inf, -np.inf], np.nan, inplace=True) #replace all infinite values with NaN\n",
    "\n",
    "X_all = X_all.dropna(axis=1, how='all') #Drop any column that has all NaN\n",
    "X_all.fillna(value = X_all.mean(axis=0), inplace=True) #Impute mean in place on NaN\n",
    "\n",
    "#X_all.loc[:, X_all.isnull().any()] See which column still had NaN after prepocessing. gmin was removed\n",
    "print('Shape of X_all before removing low variance features:', X_all.shape)\n",
    "\n",
    "#0.16 =(.8 * (1 - .8)) that is the threshold for features that are constant in 80% of the instances\n",
    "feat = VarianceThreshold(threshold=0.16)\n",
    "feat.fit_transform(X_all)\n",
    "X_all = X_all[X_all.columns[feat.get_support(indices=True)]] #retain column names\n",
    "print('Shape of X after removing low variance features:', X_all.shape)"
   ]
  },
  {
   "cell_type": "code",
   "execution_count": 15,
   "metadata": {},
   "outputs": [
    {
     "name": "stdout",
     "output_type": "stream",
     "text": [
      "Fold 1 of 5\n",
      "Fold 2 of 5\n",
      "Fold 3 of 5\n",
      "Fold 4 of 5\n",
      "Fold 5 of 5\n"
     ]
    }
   ],
   "source": [
    "Predictions_DF = pd.DataFrame()\n",
    "n_splits=5\n",
    "kfold = StratifiedKFold(n_splits=n_splits, shuffle=True, random_state=23)\n",
    "\n",
    "for fold, (train_idx, val_idx) in enumerate(kfold.split(X_all, y_)):\n",
    "    print(\"Fold \" + str(fold+1) + \" of \" + str(n_splits))\n",
    "    \n",
    "    xtrain, xtest = X_all.iloc[train_idx], X_all.iloc[val_idx]\n",
    "    y_train, y_test = y_.values[train_idx], y_.values[val_idx]\n",
    "    \n",
    "    sc = StandardScaler().fit(xtrain)\n",
    "    X_train = pd.DataFrame(sc.transform(xtrain), columns = X_all.columns, index=xtrain.index)\n",
    "    X_test = pd.DataFrame(sc.transform(xtest), columns = X_all.columns, index=xtest.index)\n",
    "    \n",
    "    #Save model\n",
    "    #pickle.dump(new_rf_model, open('ConvRF_' + str(fold+1) + '.pkl', 'wb'))\n",
    "    #load saved model\n",
    "    loaded_RFmodel = pickle.load(open('Unique_ConvRF_' + str(fold+1) + '.pkl', 'rb'))\n",
    "    \n",
    "    y_pred = loaded_RFmodel.predict(X_test)\n",
    "    #y_proba = loaded_RFmodel.predict_proba(X_test)\n",
    "    \n",
    "    compare = pd.DataFrame(np.hstack((y_test.reshape(y_test.shape[0],1),\n",
    "                                  y_pred.reshape(y_pred.shape[0],1))),\n",
    "                                  columns = ['consensus_act', 'predicted_act'], index=X_test.index)\n",
    "    \n",
    "    compare['score'] = np.where(compare['consensus_act'] == compare['predicted_act'], 'correct', 'incorrect')\n",
    "    #compare['score'] = compare.apply(lambda x: 'correct' if x['consensus_act'] == x['predicted_act'] else 'incorrect', axis=1)\n",
    "    compare.to_csv('Unique_RF_Predictions_Run'+str(fold+1) + '.csv')\n",
    "    \n",
    "    Predictions_DF = Predictions_DF.append(compare)\n",
    "Predictions_DF.to_csv('Unique_RF_Predictions.csv')"
   ]
  },
  {
   "cell_type": "code",
   "execution_count": null,
   "metadata": {
    "collapsed": true
   },
   "outputs": [],
   "source": []
  }
 ],
 "metadata": {
  "kernelspec": {
   "display_name": "Python 3",
   "language": "python",
   "name": "python3"
  },
  "language_info": {
   "codemirror_mode": {
    "name": "ipython",
    "version": 3
   },
   "file_extension": ".py",
   "mimetype": "text/x-python",
   "name": "python",
   "nbconvert_exporter": "python",
   "pygments_lexer": "ipython3",
   "version": "3.5.4"
  }
 },
 "nbformat": 4,
 "nbformat_minor": 2
}
